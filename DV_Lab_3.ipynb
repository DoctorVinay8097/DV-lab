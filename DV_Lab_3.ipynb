{
  "nbformat": 4,
  "nbformat_minor": 0,
  "metadata": {
    "colab": {
      "provenance": [],
      "authorship_tag": "ABX9TyOzcDcO8L9N0LUeiSY0e7Kl",
      "include_colab_link": true
    },
    "kernelspec": {
      "name": "python3",
      "display_name": "Python 3"
    },
    "language_info": {
      "name": "python"
    }
  },
  "cells": [
    {
      "cell_type": "markdown",
      "metadata": {
        "id": "view-in-github",
        "colab_type": "text"
      },
      "source": [
        "<a href=\"https://colab.research.google.com/github/DoctorVinay8097/DV-lab/blob/main/DV_Lab_3.ipynb\" target=\"_parent\"><img src=\"https://colab.research.google.com/assets/colab-badge.svg\" alt=\"Open In Colab\"/></a>"
      ]
    },
    {
      "cell_type": "markdown",
      "source": [
        "# **RDBMS Connectivity using Python**\n",
        "\n",
        "## Connect MySQL with Jupyter using PyMySQL and create the following tables and execute the queries.\n",
        "\n",
        "### 1. Create a table Movies with columns as film_id, film_title, cinema, show_timings and num_of_tickets\n",
        "\n",
        "### 2. Insert a single row into the table\n",
        "\n",
        "### 3. Insert multiple rows into the table\n",
        "\n",
        "### 4. Fetch the entire table\n",
        "\n",
        "### 5. Update the number of tickets to 0 for 4 and 5 films\n",
        "\n",
        "### 6. Delete the films with 0 tickets\n"
      ],
      "metadata": {
        "id": "JkaSk2TKerqc"
      }
    },
    {
      "cell_type": "markdown",
      "source": [
        "## **PyMySQL**\n",
        "**PyMySQL** is a Python library that provides a convenient way to interact with MySQL databases. It is a popular choice for developers who need to work with MySQL databases in Python applications.\n",
        "\n",
        "Here are some key features and functionalities of PyMySQL:\n",
        "\n",
        "**Database Connection:** PyMySQL allows you to establish a connection to a MySQL database server using Python. You can specify the host, port, username, password, and database name to connect to.\n",
        "\n",
        "**Executing SQL Queries:** You can execute SQL queries against the connected database using PyMySQL. This includes executing SELECT statements to retrieve data, INSERT, UPDATE, and DELETE statements to modify data, and other SQL operations.\n",
        "\n",
        "**Fetching and Manipulating Data:** PyMySQL provides functions to fetch data from query results. You can retrieve data as dictionaries or tuples, making it easy to work with the data in Python.\n",
        "\n",
        "**Transactions:** You can manage transactions in PyMySQL, allowing you to group multiple SQL statements into a single transaction and control how changes are committed to the database."
      ],
      "metadata": {
        "id": "2G5oqclYjTI1"
      }
    },
    {
      "cell_type": "code",
      "execution_count": null,
      "metadata": {
        "id": "XnsHno3qem-t"
      },
      "outputs": [],
      "source": [
        "# Install PyMySQL and import it\n",
        "!pip install PyMySQL\n",
        "import pymysql"
      ]
    },
    {
      "cell_type": "code",
      "source": [
        "# Connect it with your local MySQL\n",
        "dbcon = pymysql.connect(host = 'localhost',\n",
        "user = 'root',\n",
        "password = '********',\n",
        "database = 'new_db')"
      ],
      "metadata": {
        "id": "wr4dhz4zfPDF"
      },
      "execution_count": null,
      "outputs": []
    },
    {
      "cell_type": "code",
      "source": [
        "# Create the connection cursor\n",
        "cur = dbcon.cursor()"
      ],
      "metadata": {
        "id": "8slyJPEig40s"
      },
      "execution_count": null,
      "outputs": []
    },
    {
      "cell_type": "code",
      "source": [
        "# 1. Create the table of Movies\n",
        "sqlQuery= \"CREATE TABLE Movies(film_id int, film_title varchar(10), cinema varchar(10), show_timings char(10), num_of_tickets int)\"\n",
        "cur.execute(sqlQuery)\n",
        "dbcon.commit()"
      ],
      "metadata": {
        "id": "E9yLqmaDgGh5"
      },
      "execution_count": null,
      "outputs": []
    },
    {
      "cell_type": "code",
      "source": [
        "# 2. Insert the first row\n",
        "mySql_insert_query = \"insert into Movies values (1, 'Black Adam', 'PVR', '12:00 PM', 5)\"\n",
        "cur.execute(mySql_insert_query)\n",
        "dbcon.commit()"
      ],
      "metadata": {
        "id": "kXPMnYTnhV4r"
      },
      "execution_count": null,
      "outputs": []
    },
    {
      "cell_type": "code",
      "source": [
        "# 3. Insert multiple rows\n",
        "mySql_insert_query = \"\"\"insert into Movies (film_id, film_title, cinema, show_timings, num_of_tickets) values\n",
        "(%s, %s, %s, %s, %s)\"\"\"\n",
        "\n",
        "records_to_insert = [(2, 'Black', 'Prasads', '3:00 PM', 5),\n",
        "                    (3, 'Kantara', 'PVR', '6:00 PM', 5),\n",
        "                    (4, 'God Father', 'PVR', '3:00 PM', 5),\n",
        "                    (5, 'Urvasiv', 'Prasads', '12:00 PM', 5)]\n",
        "cur.executemany(mySql_insert_query, records_to_insert)\n",
        "dbcon.commit()"
      ],
      "metadata": {
        "id": "0LevGchXhd6T"
      },
      "execution_count": null,
      "outputs": []
    },
    {
      "cell_type": "code",
      "source": [
        "# 4. Fetch the entire table\n",
        "sql_select_Query = \"select * from Movies\n",
        "cur.execute(sql_update_query)\n",
        "dbcon.commit()\""
      ],
      "metadata": {
        "id": "tgLb3yTsh-9W"
      },
      "execution_count": null,
      "outputs": []
    },
    {
      "cell_type": "code",
      "source": [
        "# 5. Update the number of tickets to 0 for 4 and 5 films\n",
        "sql_update_query = \"\"\"Update Movies set num_of_tickets = 0 where film_id in (4, 5) \"\"\"\n",
        "cur.execute(sql_update_query)\n",
        "dbcon.commit()"
      ],
      "metadata": {
        "id": "NQ0MflATiNkX"
      },
      "execution_count": null,
      "outputs": []
    },
    {
      "cell_type": "code",
      "source": [
        "# 6. Delete the films with 0 tickets\n",
        "sql_Delete_query = \"\"\"Delete from Movies where num_of_tickets = 0\"\"\"\n",
        "cur.execute(sql_Delete_query)\n",
        "dbcon.commit()"
      ],
      "metadata": {
        "id": "74dfigvkip3j"
      },
      "execution_count": null,
      "outputs": []
    }
  ]
}