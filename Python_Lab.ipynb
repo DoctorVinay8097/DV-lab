{
  "nbformat": 4,
  "nbformat_minor": 0,
  "metadata": {
    "colab": {
      "provenance": [],
      "authorship_tag": "ABX9TyPDrWm53Bp02h7cG7Ygcq7b",
      "include_colab_link": true
    },
    "kernelspec": {
      "name": "python3",
      "display_name": "Python 3"
    },
    "language_info": {
      "name": "python"
    }
  },
  "cells": [
    {
      "cell_type": "markdown",
      "metadata": {
        "id": "view-in-github",
        "colab_type": "text"
      },
      "source": [
        "<a href=\"https://colab.research.google.com/github/DoctorVinay8097/DV-lab/blob/main/Python_Lab.ipynb\" target=\"_parent\"><img src=\"https://colab.research.google.com/assets/colab-badge.svg\" alt=\"Open In Colab\"/></a>"
      ]
    },
    {
      "cell_type": "markdown",
      "source": [
        "1. write a python program to compute the GCD and LCM of two numbers. Explain the code completely.\n",
        "\n",
        "The calculate_gcd function takes two parameters, a and b, and uses the Euclidean algorithm to compute the GCD. It iteratively replaces a with b and b with the remainder of the division a % b until b becomes zero. At that point, the GCD is the value of a.\n",
        "\n",
        "The calculate_lcm function takes two parameters, a and b, and calculates the LCM using the GCD formula: LCM = (a * b) / GCD. It first calculates the GCD using the calculate_gcd function and then uses the formula to calculate the LCM."
      ],
      "metadata": {
        "id": "Xs_hXUB65M_0"
      }
    },
    {
      "cell_type": "code",
      "source": [
        "# Function to calculate GCD using the Euclidean algorithm\n",
        "def calculate_gcd(a, b):\n",
        "    while b:\n",
        "        a, b = b, a % b\n",
        "    return a\n",
        "\n",
        "# Function to calculate LCM using the GCD formula\n",
        "def calculate_lcm(a, b):\n",
        "    gcd = calculate_gcd(a, b)\n",
        "    lcm = (a * b) // gcd  # LCM = (a * b) / GCD\n",
        "    return lcm\n",
        "\n",
        "# Input two numbers from the user\n",
        "num1 = int(input(\"Enter the first number: \"))\n",
        "num2 = int(input(\"Enter the second number: \"))\n",
        "\n",
        "# Calculate and display GCD\n",
        "gcd = calculate_gcd(num1, num2)\n",
        "print(f\"GCD of {num1} and {num2} is {gcd}\")\n",
        "\n",
        "# Calculate and display LCM\n",
        "lcm = calculate_lcm(num1, num2)\n",
        "print(f\"LCM of {num1} and {num2} is {lcm}\")\n"
      ],
      "metadata": {
        "colab": {
          "base_uri": "https://localhost:8080/"
        },
        "id": "poV_l9IN5QAz",
        "outputId": "81313f0b-5b13-431a-c12a-40c68e954ff4"
      },
      "execution_count": 2,
      "outputs": [
        {
          "output_type": "stream",
          "name": "stdout",
          "text": [
            "Enter the first number: 25\n",
            "Enter the second number: 47\n",
            "GCD of 25 and 47 is 1\n",
            "LCM of 25 and 47 is 1175\n"
          ]
        }
      ]
    },
    {
      "cell_type": "markdown",
      "source": [
        "2. Write a python program to create list, access list, update list and delete list"
      ],
      "metadata": {
        "id": "K2TVTyJQ55s8"
      }
    },
    {
      "cell_type": "code",
      "source": [
        "# Create a list\n",
        "my_list = [1, 2, 3, 4, 5]\n",
        "\n",
        "# Access elements in the list\n",
        "print(\"Elements in the list:\")\n",
        "for item in my_list:\n",
        "    print(item)\n",
        "\n",
        "# Update elements in the list\n",
        "my_list[2] = 10  # Update the element at index 2 to 10\n",
        "print(\"\\nList after updating an element:\")\n",
        "print(my_list)\n",
        "\n",
        "# Delete the entire list\n",
        "del my_list\n",
        "\n",
        "# Attempt to access the list after deletion (will result in an error)\n",
        "try:\n",
        "    print(my_list)\n",
        "except NameError:\n",
        "    print(\"The list has been deleted.\")"
      ],
      "metadata": {
        "colab": {
          "base_uri": "https://localhost:8080/"
        },
        "id": "KsPgcaeK7FLV",
        "outputId": "800689f0-ada8-48f8-8d1d-a33c12d7026f"
      },
      "execution_count": 1,
      "outputs": [
        {
          "output_type": "stream",
          "name": "stdout",
          "text": [
            "Elements in the list:\n",
            "1\n",
            "2\n",
            "3\n",
            "4\n",
            "5\n",
            "\n",
            "List after updating an element:\n",
            "[1, 2, 10, 4, 5]\n",
            "The list has been deleted.\n"
          ]
        }
      ]
    },
    {
      "cell_type": "markdown",
      "source": [
        "3. Write a python program to remove the ith occurence of the given word in a list where words repeat"
      ],
      "metadata": {
        "id": "TYIRAnyZ7X2S"
      }
    },
    {
      "cell_type": "code",
      "source": [
        "def remove_ith_occurrence(lst, word, i):\n",
        "    count = 0  # Initialize a counter to keep track of occurrences\n",
        "\n",
        "    # Iterate through the list and remove the ith occurrence of the word\n",
        "    for item in lst[:]:\n",
        "        if item == word:\n",
        "            count += 1\n",
        "            if count == i:\n",
        "                lst.remove(item)\n",
        "                break  # Exit the loop after removing the ith occurrence\n",
        "\n",
        "# Example usage:\n",
        "my_list = [\"apple\", \"banana\", \"apple\", \"cherry\", \"apple\"]\n",
        "word_to_remove = \"apple\"\n",
        "ith_occurrence_to_remove = 2  # Remove the second occurrence of \"apple\"\n",
        "\n",
        "remove_ith_occurrence(my_list, word_to_remove, ith_occurrence_to_remove)\n",
        "print(my_list)"
      ],
      "metadata": {
        "colab": {
          "base_uri": "https://localhost:8080/"
        },
        "id": "tAgE7oec7G3y",
        "outputId": "a0cb4889-d4ab-47b1-945d-4a57682fce9e"
      },
      "execution_count": 3,
      "outputs": [
        {
          "output_type": "stream",
          "name": "stdout",
          "text": [
            "['banana', 'apple', 'cherry', 'apple']\n"
          ]
        }
      ]
    },
    {
      "cell_type": "markdown",
      "source": [
        "4. Write a python program to count the frequency of words appearing in a string using a dictionary"
      ],
      "metadata": {
        "id": "EdfWw1jw8nqi"
      }
    },
    {
      "cell_type": "code",
      "source": [
        "# Function to count word frequency in a string\n",
        "def count_word_frequency(input_string):\n",
        "    word_frequency = {}  # Initialize an empty dictionary to store word frequencies\n",
        "    words = input_string.split()  # Split the input string into words\n",
        "\n",
        "    for word in words:\n",
        "        # Remove punctuation and convert to lowercase for consistent counting\n",
        "        word = word.strip('.,!?\"\\'').lower()\n",
        "        # Update the word frequency in the dictionary\n",
        "        word_frequency[word] = word_frequency.get(word, 0) + 1\n",
        "\n",
        "    return word_frequency\n",
        "\n",
        "# Input a string from the user\n",
        "input_string = input(\"Enter a string: \")\n",
        "\n",
        "# Call the function to count word frequency\n",
        "frequency_dict = count_word_frequency(input_string)\n",
        "\n",
        "# Display word frequency\n",
        "for word, frequency in frequency_dict.items():\n",
        "    print(f\"'{word}': {frequency}\")\n"
      ],
      "metadata": {
        "colab": {
          "base_uri": "https://localhost:8080/"
        },
        "id": "TYaQZnli76Wd",
        "outputId": "501a3a6a-d892-4ec8-87de-d1307f63dfae"
      },
      "execution_count": 4,
      "outputs": [
        {
          "output_type": "stream",
          "name": "stdout",
          "text": [
            "Enter a string: \"This is a simple example. This example shows how to count word frequency. This is a simple example.\"\n",
            "'this': 3\n",
            "'is': 2\n",
            "'a': 2\n",
            "'simple': 2\n",
            "'example': 3\n",
            "'shows': 1\n",
            "'how': 1\n",
            "'to': 1\n",
            "'count': 1\n",
            "'word': 1\n",
            "'frequency': 1\n"
          ]
        }
      ]
    },
    {
      "cell_type": "markdown",
      "source": [
        "5. Write a python program to create a dictionary with key as first character and value as words starting with that character"
      ],
      "metadata": {
        "id": "LX_xiCev9ZBe"
      }
    },
    {
      "cell_type": "code",
      "source": [
        "def create_char_dict(input_string):\n",
        "    words = input_string.split()\n",
        "    char_dict = {}\n",
        "\n",
        "    for word in words:\n",
        "        # Remove punctuation and convert to lowercase\n",
        "        word = word.strip('.,!?\"\\'').lower()\n",
        "\n",
        "        # Skip empty words after removing punctuation\n",
        "        if word:\n",
        "            first_char = word[0]\n",
        "            if first_char in char_dict:\n",
        "                char_dict[first_char].append(word)\n",
        "            else:\n",
        "                char_dict[first_char] = [word]\n",
        "\n",
        "    return char_dict\n",
        "\n",
        "# Input a string from the user\n",
        "input_string = input(\"Enter a string: \")\n",
        "\n",
        "# Call the function to create the character dictionary\n",
        "char_dict = create_char_dict(input_string)\n",
        "\n",
        "# Display the character dictionary\n",
        "for char, word_list in char_dict.items():\n",
        "    print(f\"'{char}': {word_list}\")"
      ],
      "metadata": {
        "colab": {
          "base_uri": "https://localhost:8080/"
        },
        "id": "4qS1vmdk8xsN",
        "outputId": "8030ebb0-2645-49f0-c47c-2abe61805e8f"
      },
      "execution_count": 5,
      "outputs": [
        {
          "output_type": "stream",
          "name": "stdout",
          "text": [
            "Enter a string: \"Python is a popular programming language. It's used for web development, data analysis, and more.\"\n",
            "'p': ['python', 'popular', 'programming']\n",
            "'i': ['is', \"it's\"]\n",
            "'a': ['a', 'analysis', 'and']\n",
            "'l': ['language']\n",
            "'u': ['used']\n",
            "'f': ['for']\n",
            "'w': ['web']\n",
            "'d': ['development', 'data']\n",
            "'m': ['more']\n"
          ]
        }
      ]
    },
    {
      "cell_type": "markdown",
      "source": [
        "6. Write a python program to check if a substring is present in a given string"
      ],
      "metadata": {
        "id": "yhophS8X9pjW"
      }
    },
    {
      "cell_type": "code",
      "source": [
        "# Input the string and substring from the user\n",
        "input_string = input(\"Enter a string: \")\n",
        "substring = input(\"Enter a substring to search for: \")\n",
        "\n",
        "# Check if the substring is present in the string\n",
        "if substring in input_string:\n",
        "    print(f\"'{substring}' is present in the string.\")\n",
        "else:\n",
        "    print(f\"'{substring}' is not present in the string.\")"
      ],
      "metadata": {
        "colab": {
          "base_uri": "https://localhost:8080/"
        },
        "id": "N1lM0vJW9jJX",
        "outputId": "4fa07d77-92e2-41d2-8f62-2d4805c8fc8e"
      },
      "execution_count": 6,
      "outputs": [
        {
          "output_type": "stream",
          "name": "stdout",
          "text": [
            "Enter a string: he quick brown fox jumps over the lazy dog.\n",
            "Enter a substring to search for: fox\n",
            "'fox' is present in the string.\n"
          ]
        }
      ]
    },
    {
      "cell_type": "markdown",
      "source": [
        "7. Write a python program to find the intersection and union of two lists"
      ],
      "metadata": {
        "id": "KmZxELPL-XuK"
      }
    },
    {
      "cell_type": "code",
      "source": [
        "# Function to find the intersection of two lists\n",
        "def find_intersection(list1, list2):\n",
        "    return list(set(list1).intersection(list2))\n",
        "\n",
        "# Function to find the union of two lists\n",
        "def find_union(list1, list2):\n",
        "    return list(set(list1).union(list2))\n",
        "\n",
        "# Input two lists from the user\n",
        "list1 = input(\"Enter the first list (comma-separated values): \").split(',')\n",
        "list2 = input(\"Enter the second list (comma-separated values): \").split(',')\n",
        "\n",
        "# Convert the input strings to lists of integers\n",
        "list1 = [int(item) for item in list1]\n",
        "list2 = [int(item) for item in list2]\n",
        "\n",
        "# Find and display the intersection and union\n",
        "intersection = find_intersection(list1, list2)\n",
        "union = find_union(list1, list2)\n",
        "\n",
        "print(f\"Intersection: {intersection}\")\n",
        "print(f\"Union: {union}\")"
      ],
      "metadata": {
        "colab": {
          "base_uri": "https://localhost:8080/"
        },
        "id": "xHHOb4eH-ETY",
        "outputId": "779d69b0-2765-44e1-e99b-f992ae1633ed"
      },
      "execution_count": 8,
      "outputs": [
        {
          "output_type": "stream",
          "name": "stdout",
          "text": [
            "Enter the first list (comma-separated values): 1, 2, 3, 4, 5\n",
            "Enter the second list (comma-separated values): 3, 4, 5, 6, 7\n",
            "Intersection: [3, 4, 5]\n",
            "Union: [1, 2, 3, 4, 5, 6, 7]\n"
          ]
        }
      ]
    },
    {
      "cell_type": "markdown",
      "source": [
        "8. Write a python program to find the length of  a list using recursion\n",
        "\n",
        "In the base case, we check if the input list is empty. If it is, we return 0, indicating that the length of an empty list is 0.\n",
        "\n",
        "In the recursive case, we increment the count by 1 and call the recursive_list_length function recursively with the remaining portion of the list (excluding the first element). This continues until the base case is reached for an empty list."
      ],
      "metadata": {
        "id": "W9khqMnR_YxD"
      }
    },
    {
      "cell_type": "code",
      "source": [
        "def recursive_list_length(input_list):\n",
        "    # Base case: if the list is empty, its length is 0\n",
        "    if not input_list:\n",
        "        return 0\n",
        "    # Recursive case: remove the first element and call the function with the remaining list\n",
        "    else:\n",
        "        return 1 + recursive_list_length(input_list[1:])\n",
        "\n",
        "# Input a list from the user\n",
        "input_list = input(\"Enter a list of elements (comma-separated values): \").split(',')\n",
        "\n",
        "# Calculate and display the length of the list using recursion\n",
        "length = recursive_list_length(input_list)\n",
        "print(f\"The length of the list is {length}.\")"
      ],
      "metadata": {
        "colab": {
          "base_uri": "https://localhost:8080/"
        },
        "id": "GUpFMDGu-pZV",
        "outputId": "c1f0ebc0-6bf2-4634-b2af-de7f746356b4"
      },
      "execution_count": 9,
      "outputs": [
        {
          "output_type": "stream",
          "name": "stdout",
          "text": [
            "Enter a list of elements (comma-separated values): 1, 2, 3, 4, 5, 6, 7\n",
            "The length of the list is 7.\n"
          ]
        }
      ]
    },
    {
      "cell_type": "markdown",
      "source": [
        "9. Write a python program to read a file and capitalize the first letter of every word in the file"
      ],
      "metadata": {
        "id": "CCvkoH2lBT4O"
      }
    },
    {
      "cell_type": "code",
      "source": [
        "# Define the content to write to the file\n",
        "file_content = \"\"\"\n",
        "this is a sample file.\n",
        "it contains multiple lines of text.\n",
        "each line is a new sentence.\n",
        "\"\"\"\n",
        "\n",
        "# Specify the file name\n",
        "file_name = \"sample_file.txt\"\n",
        "\n",
        "# Open the file in write mode ('w') and write the content\n",
        "with open(file_name, 'w') as file:\n",
        "    file.write(file_content)\n",
        "\n",
        "print(f\"File '{file_name}' has been created and written.\")"
      ],
      "metadata": {
        "colab": {
          "base_uri": "https://localhost:8080/"
        },
        "id": "mBYtZvp7_cA9",
        "outputId": "2c856831-d24a-449e-f29e-61130d250c87"
      },
      "execution_count": 10,
      "outputs": [
        {
          "output_type": "stream",
          "name": "stdout",
          "text": [
            "File 'sample_file.txt' has been created and written.\n"
          ]
        }
      ]
    },
    {
      "cell_type": "code",
      "source": [
        "# Specify the file name to read\n",
        "file_name = \"sample_file.txt\"\n",
        "\n",
        "try:\n",
        "    with open(file_name, 'r') as file:\n",
        "        # Read and capitalize the content of the file\n",
        "        file_content = file.read()\n",
        "        capitalized_content = file_content.title()\n",
        "        print(\"Capitalized content of the file:\")\n",
        "        print(capitalized_content)\n",
        "except FileNotFoundError:\n",
        "    print(f\"The file '{file_name}' was not found.\")\n",
        "except Exception as e:\n",
        "    print(f\"An error occurred: {e}\")\n"
      ],
      "metadata": {
        "colab": {
          "base_uri": "https://localhost:8080/"
        },
        "id": "qHv_uVFAAuQH",
        "outputId": "cec7c839-f43d-4112-b159-df1ae47374e2"
      },
      "execution_count": 12,
      "outputs": [
        {
          "output_type": "stream",
          "name": "stdout",
          "text": [
            "Capitalized content of the file:\n",
            "\n",
            "This Is A Sample File.\n",
            "It Contains Multiple Lines Of Text.\n",
            "Each Line Is A New Sentence.\n",
            "\n"
          ]
        }
      ]
    },
    {
      "cell_type": "code",
      "source": [],
      "metadata": {
        "id": "6SdORaZ7BCzw"
      },
      "execution_count": null,
      "outputs": []
    }
  ]
}